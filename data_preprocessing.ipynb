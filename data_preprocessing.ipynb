{
  "cells": [
    {
      "cell_type": "code",
      "execution_count": null,
      "metadata": {
        "id": "fc1faf6e"
      },
      "outputs": [],
      "source": [
        "import pandas as pd\n",
        "import matplotlib.pyplot as plt\n",
        "import numpy as np\n",
        "import tensorflow as tf\n",
        "from tensorflow.keras import layers\n",
        "import os\n",
        "from PIL import Image"
      ],
      "id": "fc1faf6e"
    },
    {
      "cell_type": "code",
      "execution_count": null,
      "metadata": {
        "colab": {
          "base_uri": "https://localhost:8080/"
        },
        "id": "qY-KL2hsJ1fn",
        "outputId": "67005534-ae2a-4367-dfa8-ade7d455beba"
      },
      "outputs": [
        {
          "name": "stdout",
          "output_type": "stream",
          "text": [
            "Mounted at /content/drive\n"
          ]
        }
      ],
      "source": [
        "from google.colab import drive\n",
        "drive.mount('/content/drive')"
      ],
      "id": "qY-KL2hsJ1fn"
    },
    {
      "cell_type": "markdown",
      "metadata": {
        "id": "c2be78be"
      },
      "source": [
        "# Data Pre-Processing"
      ],
      "id": "c2be78be"
    },
    {
      "cell_type": "code",
      "execution_count": null,
      "metadata": {
        "id": "t_ZMV514LFDb"
      },
      "outputs": [],
      "source": [
        "dir_path = '/content/drive/MyDrive/Colab Notebooks/Butterfly Classification Contest'"
      ],
      "id": "t_ZMV514LFDb"
    },
    {
      "cell_type": "code",
      "execution_count": null,
      "metadata": {
        "colab": {
          "base_uri": "https://localhost:8080/",
          "height": 423
        },
        "id": "12916e4c",
        "outputId": "dbf66c87-114e-4636-8bcc-a123ec11339c",
        "scrolled": true
      },
      "outputs": [
        {
          "data": {
            "text/html": [
              "\n",
              "  <div id=\"df-07681738-7866-4b91-a740-49c7a5e9efa7\">\n",
              "    <div class=\"colab-df-container\">\n",
              "      <div>\n",
              "<style scoped>\n",
              "    .dataframe tbody tr th:only-of-type {\n",
              "        vertical-align: middle;\n",
              "    }\n",
              "\n",
              "    .dataframe tbody tr th {\n",
              "        vertical-align: top;\n",
              "    }\n",
              "\n",
              "    .dataframe thead th {\n",
              "        text-align: right;\n",
              "    }\n",
              "</style>\n",
              "<table border=\"1\" class=\"dataframe\">\n",
              "  <thead>\n",
              "    <tr style=\"text-align: right;\">\n",
              "      <th></th>\n",
              "      <th>filename</th>\n",
              "      <th>label</th>\n",
              "    </tr>\n",
              "  </thead>\n",
              "  <tbody>\n",
              "    <tr>\n",
              "      <th>0</th>\n",
              "      <td>Image_1.jpg</td>\n",
              "      <td>SOUTHERN DOGFACE</td>\n",
              "    </tr>\n",
              "    <tr>\n",
              "      <th>1</th>\n",
              "      <td>Image_2.jpg</td>\n",
              "      <td>ADONIS</td>\n",
              "    </tr>\n",
              "    <tr>\n",
              "      <th>2</th>\n",
              "      <td>Image_3.jpg</td>\n",
              "      <td>BROWN SIPROETA</td>\n",
              "    </tr>\n",
              "    <tr>\n",
              "      <th>3</th>\n",
              "      <td>Image_4.jpg</td>\n",
              "      <td>MONARCH</td>\n",
              "    </tr>\n",
              "    <tr>\n",
              "      <th>4</th>\n",
              "      <td>Image_5.jpg</td>\n",
              "      <td>GREEN CELLED CATTLEHEART</td>\n",
              "    </tr>\n",
              "    <tr>\n",
              "      <th>...</th>\n",
              "      <td>...</td>\n",
              "      <td>...</td>\n",
              "    </tr>\n",
              "    <tr>\n",
              "      <th>6494</th>\n",
              "      <td>Image_6495.jpg</td>\n",
              "      <td>MANGROVE SKIPPER</td>\n",
              "    </tr>\n",
              "    <tr>\n",
              "      <th>6495</th>\n",
              "      <td>Image_6496.jpg</td>\n",
              "      <td>MOURNING CLOAK</td>\n",
              "    </tr>\n",
              "    <tr>\n",
              "      <th>6496</th>\n",
              "      <td>Image_6497.jpg</td>\n",
              "      <td>APPOLLO</td>\n",
              "    </tr>\n",
              "    <tr>\n",
              "      <th>6497</th>\n",
              "      <td>Image_6498.jpg</td>\n",
              "      <td>ELBOWED PIERROT</td>\n",
              "    </tr>\n",
              "    <tr>\n",
              "      <th>6498</th>\n",
              "      <td>Image_6499.jpg</td>\n",
              "      <td>ATALA</td>\n",
              "    </tr>\n",
              "  </tbody>\n",
              "</table>\n",
              "<p>6499 rows × 2 columns</p>\n",
              "</div>\n",
              "      <button class=\"colab-df-convert\" onclick=\"convertToInteractive('df-07681738-7866-4b91-a740-49c7a5e9efa7')\"\n",
              "              title=\"Convert this dataframe to an interactive table.\"\n",
              "              style=\"display:none;\">\n",
              "        \n",
              "  <svg xmlns=\"http://www.w3.org/2000/svg\" height=\"24px\"viewBox=\"0 0 24 24\"\n",
              "       width=\"24px\">\n",
              "    <path d=\"M0 0h24v24H0V0z\" fill=\"none\"/>\n",
              "    <path d=\"M18.56 5.44l.94 2.06.94-2.06 2.06-.94-2.06-.94-.94-2.06-.94 2.06-2.06.94zm-11 1L8.5 8.5l.94-2.06 2.06-.94-2.06-.94L8.5 2.5l-.94 2.06-2.06.94zm10 10l.94 2.06.94-2.06 2.06-.94-2.06-.94-.94-2.06-.94 2.06-2.06.94z\"/><path d=\"M17.41 7.96l-1.37-1.37c-.4-.4-.92-.59-1.43-.59-.52 0-1.04.2-1.43.59L10.3 9.45l-7.72 7.72c-.78.78-.78 2.05 0 2.83L4 21.41c.39.39.9.59 1.41.59.51 0 1.02-.2 1.41-.59l7.78-7.78 2.81-2.81c.8-.78.8-2.07 0-2.86zM5.41 20L4 18.59l7.72-7.72 1.47 1.35L5.41 20z\"/>\n",
              "  </svg>\n",
              "      </button>\n",
              "      \n",
              "  <style>\n",
              "    .colab-df-container {\n",
              "      display:flex;\n",
              "      flex-wrap:wrap;\n",
              "      gap: 12px;\n",
              "    }\n",
              "\n",
              "    .colab-df-convert {\n",
              "      background-color: #E8F0FE;\n",
              "      border: none;\n",
              "      border-radius: 50%;\n",
              "      cursor: pointer;\n",
              "      display: none;\n",
              "      fill: #1967D2;\n",
              "      height: 32px;\n",
              "      padding: 0 0 0 0;\n",
              "      width: 32px;\n",
              "    }\n",
              "\n",
              "    .colab-df-convert:hover {\n",
              "      background-color: #E2EBFA;\n",
              "      box-shadow: 0px 1px 2px rgba(60, 64, 67, 0.3), 0px 1px 3px 1px rgba(60, 64, 67, 0.15);\n",
              "      fill: #174EA6;\n",
              "    }\n",
              "\n",
              "    [theme=dark] .colab-df-convert {\n",
              "      background-color: #3B4455;\n",
              "      fill: #D2E3FC;\n",
              "    }\n",
              "\n",
              "    [theme=dark] .colab-df-convert:hover {\n",
              "      background-color: #434B5C;\n",
              "      box-shadow: 0px 1px 3px 1px rgba(0, 0, 0, 0.15);\n",
              "      filter: drop-shadow(0px 1px 2px rgba(0, 0, 0, 0.3));\n",
              "      fill: #FFFFFF;\n",
              "    }\n",
              "  </style>\n",
              "\n",
              "      <script>\n",
              "        const buttonEl =\n",
              "          document.querySelector('#df-07681738-7866-4b91-a740-49c7a5e9efa7 button.colab-df-convert');\n",
              "        buttonEl.style.display =\n",
              "          google.colab.kernel.accessAllowed ? 'block' : 'none';\n",
              "\n",
              "        async function convertToInteractive(key) {\n",
              "          const element = document.querySelector('#df-07681738-7866-4b91-a740-49c7a5e9efa7');\n",
              "          const dataTable =\n",
              "            await google.colab.kernel.invokeFunction('convertToInteractive',\n",
              "                                                     [key], {});\n",
              "          if (!dataTable) return;\n",
              "\n",
              "          const docLinkHtml = 'Like what you see? Visit the ' +\n",
              "            '<a target=\"_blank\" href=https://colab.research.google.com/notebooks/data_table.ipynb>data table notebook</a>'\n",
              "            + ' to learn more about interactive tables.';\n",
              "          element.innerHTML = '';\n",
              "          dataTable['output_type'] = 'display_data';\n",
              "          await google.colab.output.renderOutput(dataTable, element);\n",
              "          const docLink = document.createElement('div');\n",
              "          docLink.innerHTML = docLinkHtml;\n",
              "          element.appendChild(docLink);\n",
              "        }\n",
              "      </script>\n",
              "    </div>\n",
              "  </div>\n",
              "  "
            ],
            "text/plain": [
              "            filename                     label\n",
              "0        Image_1.jpg          SOUTHERN DOGFACE\n",
              "1        Image_2.jpg                    ADONIS\n",
              "2        Image_3.jpg            BROWN SIPROETA\n",
              "3        Image_4.jpg                   MONARCH\n",
              "4        Image_5.jpg  GREEN CELLED CATTLEHEART\n",
              "...              ...                       ...\n",
              "6494  Image_6495.jpg          MANGROVE SKIPPER\n",
              "6495  Image_6496.jpg            MOURNING CLOAK\n",
              "6496  Image_6497.jpg                   APPOLLO\n",
              "6497  Image_6498.jpg           ELBOWED PIERROT\n",
              "6498  Image_6499.jpg                     ATALA\n",
              "\n",
              "[6499 rows x 2 columns]"
            ]
          },
          "execution_count": 4,
          "metadata": {},
          "output_type": "execute_result"
        }
      ],
      "source": [
        "x_train_csv = pd.read_csv(dir_path + '/butterflies/Training_set.csv')\n",
        "\n",
        "x_train_csv"
      ],
      "id": "12916e4c"
    },
    {
      "cell_type": "code",
      "execution_count": null,
      "metadata": {
        "id": "8c5ac8c3"
      },
      "outputs": [],
      "source": [
        "train_image_path = dir_path+'/butterflies/train'"
      ],
      "id": "8c5ac8c3"
    },
    {
      "cell_type": "code",
      "execution_count": null,
      "metadata": {
        "id": "1108aa49"
      },
      "outputs": [],
      "source": [
        "train_num = len(os.listdir(train_image_path))\n",
        "train_img_list = os.listdir(train_image_path)"
      ],
      "id": "1108aa49"
    },
    {
      "cell_type": "code",
      "execution_count": null,
      "metadata": {
        "colab": {
          "base_uri": "https://localhost:8080/"
        },
        "id": "hSYeqpYZQlkS",
        "outputId": "e1fd876d-b945-47f6-99c9-b94982ba8896"
      },
      "outputs": [
        {
          "name": "stdout",
          "output_type": "stream",
          "text": [
            "6545\n"
          ]
        }
      ],
      "source": [
        "print(len(train_img_list))"
      ],
      "id": "hSYeqpYZQlkS"
    },
    {
      "cell_type": "code",
      "execution_count": null,
      "metadata": {
        "colab": {
          "base_uri": "https://localhost:8080/",
          "height": 235
        },
        "id": "vOBV_z0dPFiA",
        "outputId": "5c8740a6-0c2e-4d10-ca2f-22b41488837f"
      },
      "outputs": [
        {
          "ename": "IndexError",
          "evalue": "ignored",
          "output_type": "error",
          "traceback": [
            "\u001b[0;31m---------------------------------------------------------------------------\u001b[0m",
            "\u001b[0;31mIndexError\u001b[0m                                Traceback (most recent call last)",
            "\u001b[0;32m<ipython-input-8-da8bcde74b03>\u001b[0m in \u001b[0;36m<module>\u001b[0;34m\u001b[0m\n\u001b[1;32m      2\u001b[0m \u001b[0;34m\u001b[0m\u001b[0m\n\u001b[1;32m      3\u001b[0m \u001b[0;32mfor\u001b[0m \u001b[0mi\u001b[0m \u001b[0;32min\u001b[0m \u001b[0mrange\u001b[0m\u001b[0;34m(\u001b[0m\u001b[0mlen\u001b[0m\u001b[0;34m(\u001b[0m\u001b[0mtrain_img_list\u001b[0m\u001b[0;34m)\u001b[0m\u001b[0;34m)\u001b[0m\u001b[0;34m:\u001b[0m\u001b[0;34m\u001b[0m\u001b[0;34m\u001b[0m\u001b[0m\n\u001b[0;32m----> 4\u001b[0;31m   \u001b[0;32mif\u001b[0m \u001b[0mlen\u001b[0m\u001b[0;34m(\u001b[0m\u001b[0mtrain_img_list\u001b[0m\u001b[0;34m[\u001b[0m\u001b[0mi\u001b[0m\u001b[0;34m]\u001b[0m\u001b[0;34m.\u001b[0m\u001b[0msplit\u001b[0m\u001b[0;34m(\u001b[0m\u001b[0;34m' '\u001b[0m\u001b[0;34m)\u001b[0m\u001b[0;34m)\u001b[0m \u001b[0;34m>\u001b[0m \u001b[0;36m1\u001b[0m\u001b[0;34m:\u001b[0m\u001b[0;34m\u001b[0m\u001b[0;34m\u001b[0m\u001b[0m\n\u001b[0m\u001b[1;32m      5\u001b[0m     \u001b[0;31m# print(train_img_list[i].split(' '))\u001b[0m\u001b[0;34m\u001b[0m\u001b[0;34m\u001b[0m\u001b[0;34m\u001b[0m\u001b[0m\n\u001b[1;32m      6\u001b[0m     \u001b[0;31m# print(train_img_list[i],'deleted')\u001b[0m\u001b[0;34m\u001b[0m\u001b[0;34m\u001b[0m\u001b[0;34m\u001b[0m\u001b[0m\n",
            "\u001b[0;31mIndexError\u001b[0m: list index out of range"
          ]
        }
      ],
      "source": [
        "# deleting redundant files from google drive\n",
        "\n",
        "for i in range(len(train_img_list)):\n",
        "  if len(train_img_list[i].split(' ')) > 1:\n",
        "    # print(train_img_list[i].split(' '))\n",
        "    # print(train_img_list[i],'deleted')\n",
        "# deleting redundant files from google drive\n",
        "    train_img_list.pop(i)"
      ],
      "id": "vOBV_z0dPFiA"
    },
    {
      "cell_type": "code",
      "execution_count": null,
      "metadata": {
        "colab": {
          "base_uri": "https://localhost:8080/",
          "height": 235
        },
        "id": "krt8gRqCWzEy",
        "outputId": "9eb70d79-ec7a-43fa-c89e-924ce7d123d5"
      },
      "outputs": [
        {
          "ename": "IndexError",
          "evalue": "ignored",
          "output_type": "error",
          "traceback": [
            "\u001b[0;31m---------------------------------------------------------------------------\u001b[0m",
            "\u001b[0;31mIndexError\u001b[0m                                Traceback (most recent call last)",
            "\u001b[0;32m<ipython-input-9-f87366eb1fde>\u001b[0m in \u001b[0;36m<module>\u001b[0;34m\u001b[0m\n\u001b[1;32m      2\u001b[0m \u001b[0;34m\u001b[0m\u001b[0m\n\u001b[1;32m      3\u001b[0m \u001b[0;32mfor\u001b[0m \u001b[0mi\u001b[0m \u001b[0;32min\u001b[0m \u001b[0mrange\u001b[0m\u001b[0;34m(\u001b[0m\u001b[0mlen\u001b[0m\u001b[0;34m(\u001b[0m\u001b[0mtrain_img_list\u001b[0m\u001b[0;34m)\u001b[0m\u001b[0;34m)\u001b[0m\u001b[0;34m:\u001b[0m\u001b[0;34m\u001b[0m\u001b[0;34m\u001b[0m\u001b[0m\n\u001b[0;32m----> 4\u001b[0;31m   \u001b[0;32mif\u001b[0m \u001b[0mlen\u001b[0m\u001b[0;34m(\u001b[0m\u001b[0mtrain_img_list\u001b[0m\u001b[0;34m[\u001b[0m\u001b[0mi\u001b[0m\u001b[0;34m]\u001b[0m\u001b[0;34m.\u001b[0m\u001b[0msplit\u001b[0m\u001b[0;34m(\u001b[0m\u001b[0;34m' '\u001b[0m\u001b[0;34m)\u001b[0m\u001b[0;34m)\u001b[0m \u001b[0;34m>\u001b[0m \u001b[0;36m1\u001b[0m\u001b[0;34m:\u001b[0m\u001b[0;34m\u001b[0m\u001b[0;34m\u001b[0m\u001b[0m\n\u001b[0m\u001b[1;32m      5\u001b[0m     \u001b[0;31m# print(train_img_list[i].split(' '))\u001b[0m\u001b[0;34m\u001b[0m\u001b[0;34m\u001b[0m\u001b[0;34m\u001b[0m\u001b[0m\n\u001b[1;32m      6\u001b[0m     \u001b[0;31m# print(train_img_list[i],'deleted')\u001b[0m\u001b[0;34m\u001b[0m\u001b[0;34m\u001b[0m\u001b[0;34m\u001b[0m\u001b[0m\n",
            "\u001b[0;31mIndexError\u001b[0m: list index out of range"
          ]
        }
      ],
      "source": [
        "# deleting redundant files from google drive\n",
        "\n",
        "for i in range(len(train_img_list)):\n",
        "  if len(train_img_list[i].split(' ')) > 1:\n",
        "    # print(train_img_list[i].split(' '))\n",
        "    # print(train_img_list[i],'deleted')\n",
        "    train_img_list.pop(i)\n"
      ],
      "id": "krt8gRqCWzEy"
    },
    {
      "cell_type": "code",
      "execution_count": null,
      "metadata": {
        "colab": {
          "base_uri": "https://localhost:8080/"
        },
        "id": "k4M59QbrPyAp",
        "outputId": "c824a2b9-75ad-47a1-ad2b-4857597a7ede"
      },
      "outputs": [
        {
          "name": "stdout",
          "output_type": "stream",
          "text": [
            "6499\n"
          ]
        }
      ],
      "source": [
        "print(len(train_img_list))"
      ],
      "id": "k4M59QbrPyAp"
    },
    {
      "cell_type": "code",
      "execution_count": null,
      "metadata": {
        "id": "92690362",
        "scrolled": true
      },
      "outputs": [],
      "source": [
        "train_img_list = sorted(train_img_list, key = lambda x : int(x.split('.')[0][6:]))"
      ],
      "id": "92690362"
    },
    {
      "cell_type": "code",
      "execution_count": null,
      "metadata": {
        "id": "7dMHwSsrRUfw"
      },
      "outputs": [],
      "source": [
        "i = 1\n",
        "for x in train_img_list:\n",
        "  if i != int(x.split('.')[0][6:]):\n",
        "    print(int(x.split('.')[0][6:]),i)\n",
        "    break\n",
        "  i+=1"
      ],
      "id": "7dMHwSsrRUfw"
    },
    {
      "cell_type": "code",
      "execution_count": null,
      "metadata": {
        "id": "d1ef4e64"
      },
      "outputs": [],
      "source": [
        "# convertion of image to array\n",
        "\n",
        "# x_train = []\n",
        "\n",
        "# for i in range(train_num):\n",
        "#     im = Image.open(train_image_path+'/'+train_img_list[i], 'r')\n",
        "#     pix_val = list(im.getdata())\n",
        "#     x_train.append(pix_val)\n",
        "#     print(len(x_train))\n",
        "        "
      ],
      "id": "d1ef4e64"
    },
    {
      "cell_type": "markdown",
      "metadata": {
        "id": "2CCRNed9T9DF"
      },
      "source": [
        "using oversampling sample equal number of samples from each class and use for training // do do batch by batch each 3000\n",
        "\n",
        "x_train contains the rgb values of all the train images, convert it to csv and download, then create a model and train\n",
        "\n",
        "have validation set of 0.2 and dropout of 0.25"
      ],
      "id": "2CCRNed9T9DF"
    },
    {
      "cell_type": "code",
      "execution_count": null,
      "metadata": {
        "colab": {
          "base_uri": "https://localhost:8080/"
        },
        "id": "7ada64c6",
        "outputId": "a11e9ac1-0fd6-4c4e-aacb-d046334be605"
      },
      "outputs": [
        {
          "name": "stdout",
          "output_type": "stream",
          "text": [
            "label         \n",
            "MOURNING CLOAK    131\n",
            "SLEEPY ORANGE     107\n",
            "ATALA             100\n",
            "BROWN SIPROETA     99\n",
            "SCARCE SWALLOW     97\n",
            "                 ... \n",
            "AMERICAN SNOOT     74\n",
            "MALACHITE          73\n",
            "GOLD BANDED        73\n",
            "CRIMSON PATCH      72\n",
            "WOOD SATYR         71\n",
            "Length: 75, dtype: int64\n"
          ]
        }
      ],
      "source": [
        "x_train_csv2 = x_train_csv\n",
        "x_train_csv2 = x_train_csv2.drop(['filename'],axis=1)\n",
        "print(x_train_csv2.value_counts())"
      ],
      "id": "7ada64c6"
    },
    {
      "cell_type": "markdown",
      "metadata": {
        "id": "xVGUH99rF61d"
      },
      "source": [
        "## Different class different folder for flow from directory"
      ],
      "id": "xVGUH99rF61d"
    },
    {
      "cell_type": "code",
      "execution_count": null,
      "metadata": {
        "id": "Y-SovSruH0S1"
      },
      "outputs": [],
      "source": [
        "import os\n",
        "import shutil"
      ],
      "id": "Y-SovSruH0S1"
    },
    {
      "cell_type": "code",
      "execution_count": null,
      "metadata": {
        "id": "LbgPzqFHHP34"
      },
      "outputs": [],
      "source": [
        "x_train_filename = x_train_csv['filename']\n",
        "x_train_label = x_train_csv['label']"
      ],
      "id": "LbgPzqFHHP34"
    },
    {
      "cell_type": "code",
      "execution_count": null,
      "metadata": {
        "id": "FK9zpSzkHRur"
      },
      "outputs": [],
      "source": [
        "for i in x_train_label:\n",
        "  if not os.path.exists(train_image_path + '/' + i):\n",
        "    os.mkdir(train_image_path+'/'+i)"
      ],
      "id": "FK9zpSzkHRur"
    },
    {
      "cell_type": "code",
      "execution_count": null,
      "metadata": {
        "id": "93pkEXoKF9PM"
      },
      "outputs": [],
      "source": [
        "for i in range(len(x_train_filename)):\n",
        "  # print(x_train_filename[i],x_train_label[i])\n",
        "  # print(train_image_path + '/' + x_train_filename[i])\n",
        "  # print(train_image_path + '/' + x_train_label[i] + '/' + x_train_filename[i])\n",
        "\n",
        "  if os.path.exists(train_image_path + '/' + x_train_filename[i]):\n",
        "    shutil.move(train_image_path + '/' + x_train_filename[i], train_image_path + '/' + x_train_label[i] + '/' + x_train_filename[i])\n",
        "    print(i)\n",
        "\n",
        "  # print(train_image_path + '/' + x_train_filename[i])\n",
        "\n",
        "  # break"
      ],
      "id": "93pkEXoKF9PM"
    },
    {
      "cell_type": "code",
      "execution_count": null,
      "metadata": {
        "id": "3TYTSFCiLfdU"
      },
      "outputs": [],
      "source": [
        "x_train_label_numpy = x_train_label.to_numpy()\n",
        "for i in os.listdir(train_image_path):\n",
        "  if i not in x_train_label_numpy:\n",
        "    os.remove(train_image_path +'/' + i)"
      ],
      "id": "3TYTSFCiLfdU"
    },
    {
      "cell_type": "code",
      "execution_count": null,
      "metadata": {
        "id": "BOEmczM7NEc3"
      },
      "outputs": [],
      "source": [
        "os.listdir(train_image_path)"
      ],
      "id": "BOEmczM7NEc3"
    },
    {
      "cell_type": "markdown",
      "metadata": {
        "id": "VZCZSGE9Pz9w"
      },
      "source": [
        "## Validation Set"
      ],
      "id": "VZCZSGE9Pz9w"
    },
    {
      "cell_type": "code",
      "execution_count": null,
      "metadata": {
        "colab": {
          "base_uri": "https://localhost:8080/",
          "height": 36
        },
        "id": "Z_I6Mz6eP7p0",
        "outputId": "2e719ce3-415e-439a-d363-8f465435d407"
      },
      "outputs": [
        {
          "data": {
            "application/vnd.google.colaboratory.intrinsic+json": {
              "type": "string"
            },
            "text/plain": [
              "'/content/drive/MyDrive/Colab Notebooks/Butterfly Classification Contest/butterflies/train'"
            ]
          },
          "execution_count": 85,
          "metadata": {},
          "output_type": "execute_result"
        }
      ],
      "source": [
        "train_image_path"
      ],
      "id": "Z_I6Mz6eP7p0"
    },
    {
      "cell_type": "code",
      "execution_count": null,
      "metadata": {
        "id": "EBEBiZwBP2zP"
      },
      "outputs": [],
      "source": [
        "valid_image_path = '/content/drive/MyDrive/Colab Notebooks/Butterfly Classification Contest/butterflies/validation'"
      ],
      "id": "EBEBiZwBP2zP"
    },
    {
      "cell_type": "code",
      "execution_count": null,
      "metadata": {
        "id": "FdspSEL3Q6LO"
      },
      "outputs": [],
      "source": [
        "for i in x_train_label:\n",
        "  if not os.path.exists(valid_image_path + '/' + i):\n",
        "    os.mkdir(valid_image_path + '/' + i)"
      ],
      "id": "FdspSEL3Q6LO"
    },
    {
      "cell_type": "code",
      "execution_count": null,
      "metadata": {
        "id": "0_hSwmtBQD4h"
      },
      "outputs": [],
      "source": [
        "train_images = os.listdir(train_image_path)"
      ],
      "id": "0_hSwmtBQD4h"
    },
    {
      "cell_type": "code",
      "execution_count": null,
      "metadata": {
        "id": "AVleUyfxQNib"
      },
      "outputs": [],
      "source": [
        "for i in train_images:\n",
        "  sample_path = train_image_path + '/' + i\n",
        "  subfolder_imgs = os.listdir(sample_path)\n",
        "  for j in range(5):\n",
        "    shutil.move(sample_path + '/' + subfolder_imgs[j] , valid_image_path + '/' + i + '/' + subfolder_imgs[j])"
      ],
      "id": "AVleUyfxQNib"
    }
  ],
  "metadata": {
    "colab": {
      "provenance": []
    },
    "kernelspec": {
      "display_name": "Python 3 (ipykernel)",
      "language": "python",
      "name": "python3"
    },
    "language_info": {
      "codemirror_mode": {
        "name": "ipython",
        "version": 3
      },
      "file_extension": ".py",
      "mimetype": "text/x-python",
      "name": "python",
      "nbconvert_exporter": "python",
      "pygments_lexer": "ipython3",
      "version": "3.10.7"
    }
  },
  "nbformat": 4,
  "nbformat_minor": 5
}